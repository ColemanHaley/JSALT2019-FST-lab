{
 "cells": [
  {
   "cell_type": "markdown",
   "metadata": {},
   "source": [
    "# Yup'ik Toy FST Morphological Analyzer\n",
    "Central Alaskan Yup'ik (ISO 639-3: esu) is a polysynthetic language in the Eskimo-Aleut language family located in south-west Alaska.\n",
    "\n",
    "This lab consists of creating a toy FST morphological analyzer for Yup'ik. This toy grammar will be looking at the recursive nature of Yup'ik noun and verb suffixes."
   ]
  },
  {
   "cell_type": "markdown",
   "metadata": {},
   "source": [
    "## Yup'ik Words\n",
    "![Word](Yup'ikWord.png)\n",
    "\n",
    "Yup'ik noun and verbs consist of one base, zero or more derivational "
   ]
  },
  {
   "cell_type": "markdown",
   "metadata": {},
   "source": [
    "## Yup'ik FST Diagram\n",
    "![FST](Yup'ikFSDiagram.png)"
   ]
  },
  {
   "cell_type": "markdown",
   "metadata": {},
   "source": [
    "## Yup'ik Morphophonological Processes\n",
    "\n",
    "|Symbol | Description |\n",
    "|:---:|:---:|\n",
    "| \\+ | indicates that the suffix keeps final consonants of bases (and if the base does not end in a consonant, the postbase merely affixes to the base without changing it). |\n",
    "| \\- | indicates that the suffix drops final consonants from bases. |\n",
    "| ~ |  indicates that the suffix drops final e from bases. |\n",
    "| : | indicates that the suffix drops voiced velar/uvular continuants (fricatives and nasals, g, r, or ng) if they occur between single vowels of which at least the first is full. |\n",
    "| (ng) (s) | are used with bases ending in a vowel. |\n",
    "| (t) |  is used with bases ending in a consonant. |\n",
    "| (g) |  is used with bases ending in two vowels. |"
   ]
  },
  {
   "cell_type": "code",
   "execution_count": 1,
   "metadata": {},
   "outputs": [],
   "source": [
    "import hfst\n",
    "import fstutils as fst"
   ]
  },
  {
   "cell_type": "code",
   "execution_count": 3,
   "metadata": {},
   "outputs": [],
   "source": [
    "defs = fst.Definitions({\n",
    "    \"Stop\":'[ p | t | c | k | q ]',\n",
    "    \"Nasal\":'[ m | n | \"ng\" | ḿ | ń | \"ńg\" ]',\n",
    "    \"Fricative\":'[  v   |  l   |  s   |  g   |  r   | \"vv\" | \"ll\" | \"ss\" | \"gg\" | \"rr\" |\"u͡g\" | \"u͡gg\" | \"u͡r\" | \"u͡rr\" ]',\n",
    "    'C':'[ Stop | Nasal | Fricative | w | y ]',\n",
    "    'FullVowel':'[ a | i | u ]',\n",
    "    'V':'[ e | FullVowel ]',\n",
    "    'Alphabet':'[ C | V ]',\n",
    "    'MorphPhonSymbols':'[ \"~\" | \"+\" | \"-\" | \":\" | \"@\" | \"`\" | \"(ng)\" | \"(s)\" | \"(g)\" | \"(t)\" ]'\n",
    "})"
   ]
  },
  {
   "cell_type": "code",
   "execution_count": 15,
   "metadata": {},
   "outputs": [],
   "source": [
    "allomorphy = hfst.regex(defs.replace('\"(ng)\" -> \"ng\", \"(s)\" -> s || V MorphPhonSymbols* _ .o. \"(t)\" -> t || [ g | r ] MorphPhonSymbols* _ .o. \"(g)\" -> g || V V MorphPhonSymbols* _ .o. [ \"(ng)\" | \"(s)\" | \"(g)\" | \"(t)\" ] -> 0'))\n",
    "dropConsonant = hfst.regex(defs.replace('C -> 0 || _ MorphPhonSymbols* \"-\" .o. \"-\" -> 0'))\n",
    "keepConsonant = hfst.regex(defs.replace('\"+\" -> 0'))\n",
    "eDeletion = hfst.regex(defs.replace('e -> 0 || _ MorphPhonSymbols* \"~\" .o. \"~\" -> 0'))\n",
    "velarDropping = hfst.regex(defs.replace('[ g | r | \"ng\" ] -> 0 || C V \":\" _ V C .o. \":\" -> 0'))\n",
    "baseFinalEndings = hfst.regex(defs.replace('r -> q, g -> k, e -> a || _ [ \"=\" | .#. ]'))\n",
    "tripleConsonant = hfst.regex(defs.replace('[..] -> e || C C _ C'))\n",
    "engi = hfst.regex(defs.replace('e ng i -> a i'))\n",
    "cleanup = hfst.regex(defs.replace('\"=\" -> \"-\"'))"
   ]
  },
  {
   "cell_type": "code",
   "execution_count": 17,
   "metadata": {},
   "outputs": [],
   "source": [
    "grammar = hfst.compile_lexc_file('esu_toy.lexc')\n",
    "grammar.compose(allomorphy)\n",
    "grammar.compose(dropConsonant)\n",
    "grammar.compose(keepConsonant)\n",
    "grammar.compose(eDeletion)\n",
    "grammar.compose(velarDropping)\n",
    "grammar.compose(baseFinalEndings)\n",
    "grammar.compose(tripleConsonant)\n",
    "grammar.compose(engi)\n",
    "grammar.compose(cleanup)"
   ]
  },
  {
   "cell_type": "code",
   "execution_count": 18,
   "metadata": {},
   "outputs": [
    {
     "data": {
      "text/plain": [
       "['angyarpaliviitellrunqigtuq-gguq']"
      ]
     },
     "execution_count": 18,
     "metadata": {},
     "output_type": "execute_result"
    }
   ],
   "source": [
    "fst.lookup(grammar, 'boat-big-to.make-place.to.V-to.lack-PST-again-IND.3sg=reported')"
   ]
  }
 ],
 "metadata": {
  "kernelspec": {
   "display_name": "Python 3",
   "language": "python",
   "name": "python3"
  },
  "language_info": {
   "codemirror_mode": {
    "name": "ipython",
    "version": 3
   },
   "file_extension": ".py",
   "mimetype": "text/x-python",
   "name": "python",
   "nbconvert_exporter": "python",
   "pygments_lexer": "ipython3",
   "version": "3.7.3"
  }
 },
 "nbformat": 4,
 "nbformat_minor": 2
}
