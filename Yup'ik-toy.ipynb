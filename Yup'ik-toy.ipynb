{
 "cells": [
  {
   "cell_type": "code",
   "execution_count": 1,
   "metadata": {},
   "outputs": [],
   "source": [
    "import hfst\n",
    "import fstutils as fst\n",
    "\n",
    "grammar = hfst.compile_lexc_file('esutoy.lexc')"
   ]
  },
  {
   "cell_type": "code",
   "execution_count": 13,
   "metadata": {},
   "outputs": [
    {
     "data": {
      "text/plain": [
       "NoneType"
      ]
     },
     "execution_count": 13,
     "metadata": {},
     "output_type": "execute_result"
    }
   ],
   "source": [
    "type(hfst.compile_lexc_file('esutoy.lexc'))"
   ]
  },
  {
   "cell_type": "code",
   "execution_count": 2,
   "metadata": {},
   "outputs": [],
   "source": [
    "defs = fst.Definitions({\n",
    "    \"Stop\":'[ p | t | c | k | q ]',\n",
    "    \"Nasal\":'[ m | n | \"ng\" | ḿ | ń | \"ńg\" ]',\n",
    "    \"Fricative\":'[  v   |  l   |  s   |  g   |  r   | \"vv\" | \"ll\" | \"ss\" | \"gg\" | \"rr\" |\"u͡g\" | \"u͡gg\" | \"u͡r\" | \"u͡rr\" ]',\n",
    "    'C':'[ Stop | Nasal | Fricative | w | y ]',\n",
    "    'FullVowel':'[ a | i | u ]',\n",
    "    'V':'[ e | FullVowel ]',\n",
    "    'Alphabet':'[ C | V ]',\n",
    "    'MorphPhonSymbols':'[ \"~\" | \"+\" | \"-\" | \":\" | \"@\" | \"`\" | \"(ng)\" | \"(s)\" | \"(g)\" | \"(t)\" ]'\n",
    "})"
   ]
  },
  {
   "cell_type": "code",
   "execution_count": 3,
   "metadata": {},
   "outputs": [],
   "source": [
    "allomorphy = hfst.regex(defs.replace('\"(ng)\" -> \"ng\", \"(s)\" -> s || V MorphPhonSymbols* _ .o. \"(t)\" -> t || [ g | r ] MorphPhonSymbols* _ .o. \"(g)\" -> g || V V MorphPhonSymbols* _ .o. [ \"(ng)\" | \"(s)\" | \"(g)\" | \"(t)\" ] -> 0'))\n",
    "dropConsonant = hfst.regex(defs.replace('C -> 0 || _ MorphPhonSymbols* \"-\" .o. \"-\" -> 0'))\n",
    "keepConsonant = hfst.regex(defs.replace('\"+\" -> 0'))\n",
    "eDeletion = hfst.regex(defs.replace('e -> 0 || _ MorphPhonSymbols* \"~\" .o. \"~\" -> 0'))\n",
    "velarDropping = hfst.regex(defs.replace('[ g | r | \"ng\" ] -> 0 || C V _ \":\" V C .o. \":\" -> 0'))\n",
    "baseFinalEndings = hfst.regex(defs.replace('r -> q, g -> k, e -> a || _ ([= Alphabet*]*) WordBoundary'))\n",
    "tripleConsonant = hfst.regex(defs.replace('[..] -> e || C C _ C'))\n",
    "engi = hfst.regex(defs.replace('e ng i -> a i'))                        "
   ]
  },
  {
   "cell_type": "code",
   "execution_count": 4,
   "metadata": {},
   "outputs": [
    {
     "ename": "AttributeError",
     "evalue": "'NoneType' object has no attribute 'compose'",
     "output_type": "error",
     "traceback": [
      "\u001b[0;31m---------------------------------------------------------------------------\u001b[0m",
      "\u001b[0;31mAttributeError\u001b[0m                            Traceback (most recent call last)",
      "\u001b[0;32m<ipython-input-4-006ec33c2d01>\u001b[0m in \u001b[0;36m<module>\u001b[0;34m\u001b[0m\n\u001b[0;32m----> 1\u001b[0;31m \u001b[0mgrammar\u001b[0m\u001b[0;34m.\u001b[0m\u001b[0mcompose\u001b[0m\u001b[0;34m(\u001b[0m\u001b[0mallomorphy\u001b[0m\u001b[0;34m)\u001b[0m\u001b[0;34m\u001b[0m\u001b[0;34m\u001b[0m\u001b[0m\n\u001b[0m\u001b[1;32m      2\u001b[0m \u001b[0mgrammar\u001b[0m\u001b[0;34m.\u001b[0m\u001b[0mcompose\u001b[0m\u001b[0;34m(\u001b[0m\u001b[0mdropConsonant\u001b[0m\u001b[0;34m)\u001b[0m\u001b[0;34m\u001b[0m\u001b[0;34m\u001b[0m\u001b[0m\n\u001b[1;32m      3\u001b[0m \u001b[0mgrammar\u001b[0m\u001b[0;34m.\u001b[0m\u001b[0mcompose\u001b[0m\u001b[0;34m(\u001b[0m\u001b[0mkeepConsonant\u001b[0m\u001b[0;34m)\u001b[0m\u001b[0;34m\u001b[0m\u001b[0;34m\u001b[0m\u001b[0m\n\u001b[1;32m      4\u001b[0m \u001b[0mgrammar\u001b[0m\u001b[0;34m.\u001b[0m\u001b[0mcompose\u001b[0m\u001b[0;34m(\u001b[0m\u001b[0meDeletion\u001b[0m\u001b[0;34m)\u001b[0m\u001b[0;34m\u001b[0m\u001b[0;34m\u001b[0m\u001b[0m\n\u001b[1;32m      5\u001b[0m \u001b[0mgrammar\u001b[0m\u001b[0;34m.\u001b[0m\u001b[0mcompose\u001b[0m\u001b[0;34m(\u001b[0m\u001b[0mvelarDropping\u001b[0m\u001b[0;34m)\u001b[0m\u001b[0;34m\u001b[0m\u001b[0;34m\u001b[0m\u001b[0m\n",
      "\u001b[0;31mAttributeError\u001b[0m: 'NoneType' object has no attribute 'compose'"
     ]
    }
   ],
   "source": [
    "grammar.compose(allomorphy)\n",
    "grammar.compose(dropConsonant)\n",
    "grammar.compose(keepConsonant)\n",
    "grammar.compose(eDeletion)\n",
    "grammar.compose(velarDropping)\n",
    "grammar.compose(baseFinalEndings)\n",
    "grammar.compose(tripleConsonant)\n",
    "grammar.compose(engi)"
   ]
  },
  {
   "cell_type": "code",
   "execution_count": null,
   "metadata": {},
   "outputs": [],
   "source": [
    "fst.lookup(grammar, 'caribou-big\\ABS')"
   ]
  }
 ],
 "metadata": {
  "kernelspec": {
   "display_name": "Python 3",
   "language": "python",
   "name": "python3"
  },
  "language_info": {
   "codemirror_mode": {
    "name": "ipython",
    "version": 3
   },
   "file_extension": ".py",
   "mimetype": "text/x-python",
   "name": "python",
   "nbconvert_exporter": "python",
   "pygments_lexer": "ipython3",
   "version": "3.7.3"
  }
 },
 "nbformat": 4,
 "nbformat_minor": 2
}
