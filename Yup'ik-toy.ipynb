{
 "cells": [
  {
   "cell_type": "markdown",
   "metadata": {},
   "source": [
    "# Yup'ik Toy FST Morphological Analyzer\n",
    "\n",
    "Central Alaskan Yup'ik (ISO 639-3: esu) is a polysynthetic language in the Eskimo-Aleut language family located in south-west Alaska.\n",
    "\n",
    "This lab consists of creating a toy FST morphological analyzer for Yup'ik. This toy grammar will be looking at the recursive nature of Yup'ik noun and verb suffixes and the morphophonological processes."
   ]
  },
  {
   "cell_type": "markdown",
   "metadata": {},
   "source": [
    "## Yup'ik Words\n",
    "\n",
    "![Word](Yup'ikWord.png)\n",
    "\n",
    "Yup'ik nouns and verbs consist of one base, zero or more derivational suffixes, one inflectional suffix, and zero or more enclitics.\n",
    "\n",
    "Bases are recursive and allow adding multiple derivaitonal suffixes.\n",
    "\n",
    "### Base = Base + Derivational Suffix\n",
    "\n",
    "There are 4 types of derivational suffixes:\n",
    "* [`N` → `N`] noun elaborating\n",
    "* [`V` → `V`] verb elaborating\n",
    "* [`N` → `V`] verbalizing\n",
    "* [`V` → `N`] nominalizing\n",
    "\n",
    "Suffixes attach to their corresponding base type (noun or verb) and the resulting base+suffix either stays the same type (`N` → `N` or `V` → `V`) or changes type (`N` → `V` or `V` → `N`)."
   ]
  },
  {
   "cell_type": "markdown",
   "metadata": {},
   "source": [
    "## Yup'ik FST Diagram\n",
    "![FST](Yup'ikFSDiagram.png)"
   ]
  },
  {
   "cell_type": "markdown",
   "metadata": {},
   "source": [
    "## Yup'ik Morphophonological Processes\n",
    "\n",
    "Yup'ik morphophonology is described by Jacobson with a variety of symbols. These symbols are associated with certain morphophonological processes described in the table below. \n",
    "\n",
    "| Symbol | Description |\n",
    "|:---|:---|\n",
    "| `+` | indicates that the suffix keeps final consonants of <br>bases (and if the base does not end in a consonant, <br>the postbase merely affixes to the base without <br>changing it) |\n",
    "| `-` | indicates that the suffix drops final consonants from <br>bases |\n",
    "| `~` | indicates that the suffix drops final e from bases |\n",
    "| `:` | indicates that the suffix drops voiced velar/uvular <br>continuants (g, r, or ng) if they occur between single <br>vowels of which at least the first is full |\n",
    "| `(ng)` `(s)` | are used with bases ending in a vowel |\n",
    "| `(t)` | is used with bases ending in a consonant |\n",
    "| `(g)` | is used with bases ending in two vowels |\n",
    "\n",
    "\n",
    "### Example\n",
    "\n",
    "```\n",
    "boat-big-to.make-IND.3sg\n",
    "      <==>\n",
    "angyar-rpag-li~+(g)(t)uq\n",
    "      <==>\n",
    "angyarpaliuq\n",
    "```"
   ]
  },
  {
   "cell_type": "code",
   "execution_count": null,
   "metadata": {},
   "outputs": [],
   "source": [
    "import hfst\n",
    "import fstutils as fst"
   ]
  },
  {
   "cell_type": "markdown",
   "metadata": {},
   "source": [
    "# Phase 1\n",
    "\n",
    "- [ ] <b>Task 1</b> Word final replacements –– `r` to `q`, `g` to `k`, and `e` to `a`\n",
    "- [ ] <b>Task 2</b> Implement morphophonological processes [`+`, `-`, `~`, `(g)`, `(t)`]\n",
    "- [ ] <b>Task 3</b> Replace `=` to `-` for enclitics"
   ]
  },
  {
   "cell_type": "code",
   "execution_count": null,
   "metadata": {},
   "outputs": [],
   "source": [
    "# Convenient Yup'ik character classes for grammar rules\n",
    "# Add new definitions if you'd like\n",
    "defs = fst.Definitions({\n",
    "    \"Stop\":'[ p | t | c | k | q ]',\n",
    "    \"Nasal\":'[ m | n | \"ng\" | ḿ | ń | \"ńg\" ]',\n",
    "    \"Fricative\":'[  v   |  l   |  s   |  g   |  r   | \"vv\" | \"ll\" | \"ss\" | \"gg\" | \"rr\" |\"u͡g\" | \"u͡gg\" | \"u͡r\" | \"u͡rr\" ]',\n",
    "    'C':'[ Stop | Nasal | Fricative | w | y ]',\n",
    "    'FullVowel':'[ a | i | u ]',\n",
    "    'V':'[ e | FullVowel ]',\n",
    "    'Alphabet':'[ C | V ]',\n",
    "    'MorphPhonSymbols':'[ \"~\" | \"+\" | \"-\" | \":\" | \"@\" | \"`\" | \"(ng)\" | \"(s)\" | \"(g)\" | \"(t)\" ]'\n",
    "})"
   ]
  },
  {
   "cell_type": "code",
   "execution_count": null,
   "metadata": {},
   "outputs": [],
   "source": [
    "### REGEX REPLACE RULES\n",
    "\n",
    "# TODO: Define new regex replace rules here!\n",
    "\n"
   ]
  },
  {
   "cell_type": "code",
   "execution_count": null,
   "metadata": {},
   "outputs": [],
   "source": [
    "### GRAMMAR COMPOSITION\n",
    "grammar = hfst.compile_lexc_file('esu_toy.lexc')\n",
    "\n",
    "# TODO: Compose new regex replace rules here!\n",
    "\n"
   ]
  },
  {
   "cell_type": "markdown",
   "metadata": {},
   "source": [
    "## Testing"
   ]
  },
  {
   "cell_type": "code",
   "execution_count": null,
   "metadata": {},
   "outputs": [],
   "source": [
    "fst.lookup(grammar, 'boat-big-to.make-place.to-to.lack-PST-again-IND.3sg=reported')"
   ]
  },
  {
   "cell_type": "code",
   "execution_count": null,
   "metadata": {},
   "outputs": [],
   "source": [
    "# Run testsuite1\n",
    "test_target1 = fst.read_test_file(\"testsuite1.txt\")"
   ]
  },
  {
   "cell_type": "code",
   "execution_count": null,
   "metadata": {},
   "outputs": [],
   "source": [
    "fst.test_fst(grammar, test_target1)"
   ]
  },
  {
   "cell_type": "markdown",
   "metadata": {},
   "source": [
    "# Phase 2\n",
    "\n",
    "- [ ] **Task 1** Add new words to `esu_toy.lexc`\n",
    "\n",
    "|Category|Words|\n",
    "|---|---|\n",
    "|Noun Base | village:nuna<br>ice.cream:akutar<br>person:yug<br>sun:akerte |\n",
    "|Verb Base | be.smart:elisnga<br>sit:aqume<br>walk:piyua<br>study:elitnaur<br>go:ayag |\n",
    "|Noun Deriv | -fake:~+(ng)uar [N → N]<br>-to.lack:~%:(ng)ite [N → V] |\n",
    "|Verb Deriv | -A'.say:~+ni [V → V]<br>|-one.who:+(s)te [V → N] |\n",
    "|Noun Infl | -ABS.1sg.sg:-ka |\n",
    "|Verb Infl | -IND.1sg.3sg:~+(g)aqa |\n",
    "|Enclitic | =reported:=gguq |\n",
    "\n",
    "- [ ] **Task 2** Implement morphophonological processes [`:`, `(ng)`, `(s)`]\n",
    "- [ ] **Task 3** Triple consonant cluster should add e after middle consonant (i.e. `CCC` → `CCeC`)\n",
    "- [ ] **Task 4** Add rule: (`engi` → `ai`)"
   ]
  },
  {
   "cell_type": "markdown",
   "metadata": {},
   "source": [
    "## Testing"
   ]
  },
  {
   "cell_type": "code",
   "execution_count": null,
   "metadata": {},
   "outputs": [],
   "source": [
    "# Run testsuite2\n",
    "test_target2 = fst.read_test_file(\"testsuite2.txt\")"
   ]
  },
  {
   "cell_type": "code",
   "execution_count": null,
   "metadata": {},
   "outputs": [],
   "source": [
    "fst.test_fst(grammar, test_target2)"
   ]
  },
  {
   "cell_type": "code",
   "execution_count": null,
   "metadata": {},
   "outputs": [],
   "source": [
    "# Quick lookup function to check grammar output\n",
    "fst.lookup(grammar, 'boat-big-to.make-place.to-to.make-PST-again-IND.3sg=QST')"
   ]
  }
 ],
 "metadata": {
  "@webio": {
   "lastCommId": null,
   "lastKernelId": null
  },
  "kernelspec": {
   "display_name": "Python 3",
   "language": "python",
   "name": "python3"
  },
  "language_info": {
   "codemirror_mode": {
    "name": "ipython",
    "version": 3
   },
   "file_extension": ".py",
   "mimetype": "text/x-python",
   "name": "python",
   "nbconvert_exporter": "python",
   "pygments_lexer": "ipython3",
   "version": "3.7.3"
  }
 },
 "nbformat": 4,
 "nbformat_minor": 2
}
