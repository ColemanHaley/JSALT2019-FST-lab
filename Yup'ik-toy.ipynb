{
 "cells": [
  {
   "cell_type": "code",
   "execution_count": 1,
   "metadata": {},
   "outputs": [],
   "source": [
    "import hfst\n",
    "import fstutils as fst"
   ]
  },
  {
   "cell_type": "code",
   "execution_count": 2,
   "metadata": {},
   "outputs": [
    {
     "data": {
      "text/plain": [
       "libhfst.HfstTransducer"
      ]
     },
     "execution_count": 2,
     "metadata": {},
     "output_type": "execute_result"
    }
   ],
   "source": [
    "type(hfst.compile_lexc_file('esu_toy.lexc'))"
   ]
  },
  {
   "cell_type": "code",
   "execution_count": 3,
   "metadata": {},
   "outputs": [],
   "source": [
    "defs = fst.Definitions({\n",
    "    \"Stop\":'[ p | t | c | k | q ]',\n",
    "    \"Nasal\":'[ m | n | \"ng\" | ḿ | ń | \"ńg\" ]',\n",
    "    \"Fricative\":'[  v   |  l   |  s   |  g   |  r   | \"vv\" | \"ll\" | \"ss\" | \"gg\" | \"rr\" |\"u͡g\" | \"u͡gg\" | \"u͡r\" | \"u͡rr\" ]',\n",
    "    'C':'[ Stop | Nasal | Fricative | w | y ]',\n",
    "    'FullVowel':'[ a | i | u ]',\n",
    "    'V':'[ e | FullVowel ]',\n",
    "    'Alphabet':'[ C | V ]',\n",
    "    'MorphPhonSymbols':'[ \"~\" | \"+\" | \"-\" | \":\" | \"@\" | \"`\" | \"(ng)\" | \"(s)\" | \"(g)\" | \"(t)\" ]'\n",
    "})"
   ]
  },
  {
   "cell_type": "code",
   "execution_count": 4,
   "metadata": {},
   "outputs": [
    {
     "name": "stdout",
     "output_type": "stream",
     "text": [
      "{'Stop': '[ p | t | c | k | q ]', 'Nasal': '[ m | n | \"ng\" | ḿ | ń | \"ńg\" ]', 'Fricative': '[  v   |  l   |  s   |  g   |  r   | \"vv\" | \"ll\" | \"ss\" | \"gg\" | \"rr\" |\"u͡g\" | \"u͡gg\" | \"u͡r\" | \"u͡rr\" ]', 'C': '[ [ p | t | c | k | q ] | [ m | n | \"ng\" | ḿ | ń | \"ńg\" ] | [  v   |  l   |  s   |  g   |  r   | \"vv\" | \"ll\" | \"ss\" | \"gg\" | \"rr\" |\"u͡g\" | \"u͡gg\" | \"u͡r\" | \"u͡rr\" ] | w | y ]', 'FullVowel': '[ a | i | u ]', 'V': '[ e | [ a | i | u ] ]', 'Alphabet': '[ [ [ p | t | c | k | q ] | [ m | n | \"ng\" | ḿ | ń | \"ńg\" ] | [  v   |  l   |  s   |  g   |  r   | \"vv\" | \"ll\" | \"ss\" | \"gg\" | \"rr\" |\"u͡g\" | \"u͡gg\" | \"u͡r\" | \"u͡rr\" ] | w | y ] | [ e | [ a | i | u ] ] ]', 'MorphPhonSymbols': '[ \"~\" | \"+\" | \"-\" | \":\" | \"@\" | \"`\" | \"(ng)\" | \"(s)\" | \"(g)\" | \"(t)\" ]'}\n"
     ]
    }
   ],
   "source": [
    "print(defs.defs)"
   ]
  },
  {
   "cell_type": "code",
   "execution_count": 5,
   "metadata": {},
   "outputs": [],
   "source": [
    "allomorphy = hfst.regex(defs.replace('\"(ng)\" -> \"ng\", \"(s)\" -> s || V MorphPhonSymbols* _ .o. \"(t)\" -> t || [ g | r ] MorphPhonSymbols* _ .o. \"(g)\" -> g || V V MorphPhonSymbols* _ .o. [ \"(ng)\" | \"(s)\" | \"(g)\" | \"(t)\" ] -> 0'))\n",
    "dropConsonant = hfst.regex(defs.replace('C -> 0 || _ MorphPhonSymbols* \"-\" .o. \"-\" -> 0'))\n",
    "keepConsonant = hfst.regex(defs.replace('\"+\" -> 0'))\n",
    "eDeletion = hfst.regex(defs.replace('e -> 0 || _ MorphPhonSymbols* \"~\" .o. \"~\" -> 0'))\n",
    "velarDropping = hfst.regex(defs.replace('[ g | r | \"ng\" ] -> 0 || C V _ \":\" V C .o. \":\" -> 0'))\n",
    "baseFinalEndings = hfst.regex(defs.replace('r -> q, g -> k, e -> a || _ [ \"+\" | .#. ]'))\n",
    "tripleConsonant = hfst.regex(defs.replace('[..] -> e || C C _ C'))\n",
    "engi = hfst.regex(defs.replace('e ng i -> a i'))                        "
   ]
  },
  {
   "cell_type": "code",
   "execution_count": 6,
   "metadata": {},
   "outputs": [
    {
     "data": {
      "text/plain": [
       "'[ [ p | t | c | k | q ] | [ m | n | \"ng\" | ḿ | ń | \"ńg\" ] | [  v   |  l   |  s   |  g   |  r   | \"vv\" | \"ll\" | \"ss\" | \"gg\" | \"rr\" |\"u͡g\" | \"u͡gg\" | \"u͡r\" | \"u͡rr\" ] | w | y ] -> 0 || _ [ \"~\" | \"+\" | \"-\" | \":\" | \"@\" | \"`\" | \"(ng)\" | \"(s)\" | \"(g)\" | \"(t)\" ]* \"-\" .o. \"-\" -> 0'"
      ]
     },
     "execution_count": 6,
     "metadata": {},
     "output_type": "execute_result"
    }
   ],
   "source": [
    "defs.replace('C -> 0 || _ MorphPhonSymbols* \"-\" .o. \"-\" -> 0')"
   ]
  },
  {
   "cell_type": "code",
   "execution_count": 7,
   "metadata": {},
   "outputs": [],
   "source": [
    "grammar = hfst.compile_lexc_file('esu_toy.lexc')\n",
    "grammar.compose(allomorphy)\n",
    "grammar.compose(dropConsonant)\n",
    "grammar.compose(keepConsonant)\n",
    "grammar.compose(eDeletion)\n",
    "grammar.compose(velarDropping)\n",
    "grammar.compose(baseFinalEndings)\n",
    "grammar.compose(tripleConsonant)\n",
    "grammar.compose(engi)"
   ]
  },
  {
   "cell_type": "code",
   "execution_count": 9,
   "metadata": {},
   "outputs": [
    {
     "data": {
      "text/plain": [
       "['angyarpak']"
      ]
     },
     "execution_count": 9,
     "metadata": {},
     "output_type": "execute_result"
    }
   ],
   "source": [
    "fst.lookup(grammar, 'boat-big\\ABS.sg')"
   ]
  },
  {
   "cell_type": "code",
   "execution_count": 69,
   "metadata": {},
   "outputs": [
    {
     "data": {
      "text/plain": [
       "'[ Stop | Nasal | Fricative | w | y ] -> 0 || _ [ \"~\" | \"+\" | \"-\" | \":\" | \"@\" | \"`\" | \"(ng)\" | \"(s)\" | \"(g)\" | \"(t)\" ]* \"-\" .o. \"-\" -> 0'"
      ]
     },
     "execution_count": 69,
     "metadata": {},
     "output_type": "execute_result"
    }
   ],
   "source": [
    "defs.replace('C -> 0 || _ MorphPhonSymbols* \"-\" .o. \"-\" -> 0')"
   ]
  },
  {
   "cell_type": "code",
   "execution_count": 71,
   "metadata": {},
   "outputs": [
    {
     "name": "stdout",
     "output_type": "stream",
     "text": [
      "{'Stop': '[ p | t | c | k | q ]', 'Nasal': '[ m | n | \"ng\" | ḿ | ń | \"ńg\" ]', 'Fricative': '[  v   |  l   |  s   |  g   |  r   | \"vv\" | \"ll\" | \"ss\" | \"gg\" | \"rr\" |\"u͡g\" | \"u͡gg\" | \"u͡r\" | \"u͡rr\" ]', 'C': '[ Stop | Nasal | Fricative | w | y ]', 'FullVowel': '[ a | i | u ]', 'V': '[ e | FullVowel ]', 'Alphabet': '[ C | V ]', 'MorphPhonSymbols': '[ \"~\" | \"+\" | \"-\" | \":\" | \"@\" | \"`\" | \"(ng)\" | \"(s)\" | \"(g)\" | \"(t)\" ]'}\n"
     ]
    }
   ],
   "source": [
    "print(defs.defs)"
   ]
  }
 ],
 "metadata": {
  "kernelspec": {
   "display_name": "pyenv_3.7.3",
   "language": "python",
   "name": "pyenv_3.7.3"
  },
  "language_info": {
   "codemirror_mode": {
    "name": "ipython",
    "version": 3
   },
   "file_extension": ".py",
   "mimetype": "text/x-python",
   "name": "python",
   "nbconvert_exporter": "python",
   "pygments_lexer": "ipython3",
   "version": "3.7.3"
  }
 },
 "nbformat": 4,
 "nbformat_minor": 2
}
