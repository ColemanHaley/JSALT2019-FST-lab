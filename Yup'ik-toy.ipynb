{
 "cells": [
  {
   "cell_type": "markdown",
   "metadata": {},
   "source": [
    "# Yup'ik Toy FST Morphological Analyzer\n",
    "Central Alaskan Yup'ik (ISO 639-3: esu) is a polysynthetic language in the Eskimo-Aleut language family located in south-west Alaska.\n",
    "\n",
    "This lab consists of creating a toy FST morphological analyzer for Yup'ik. This toy grammar will be looking at the recursive nature of Yup'ik noun and verb suffixes."
   ]
  },
  {
   "cell_type": "markdown",
   "metadata": {},
   "source": [
    "## Yup'ik Words\n",
    "![Word](Yup'ikWord.png)\n",
    "\n",
    "Yup'ik noun and verbs consist of one base, zero or more derivational "
   ]
  },
  {
   "cell_type": "markdown",
   "metadata": {},
   "source": [
    "## Yup'ik FST Diagram\n",
    "![FST](Yup'ikFSDiagram.png)"
   ]
  },
  {
   "cell_type": "markdown",
   "metadata": {},
   "source": [
    "## Yup'ik Morphophonological Processes\n",
    "\n",
    "|Symbol | Description |\n",
    "|:---:|:---:|\n",
    "| \\+ | indicates that the suffix keeps final consonants of bases (and if the base does not end in a consonant, the postbase merely affixes to the base without changing it). |\n",
    "| \\- | indicates that the suffix drops final consonants from bases. |\n",
    "| ~ |  indicates that the suffix drops final e from bases. |\n",
    "| : | indicates that the suffix drops voiced velar/uvular continuants (fricatives and nasals, g, r, or ng) if they occur between single vowels of which at least the first is full. |\n",
    "| (ng) (s) | are used with bases ending in a vowel. |\n",
    "| (t) |  is used with bases ending in a consonant. |\n",
    "| (g) |  is used with bases ending in two vowels. |"
   ]
  },
  {
   "cell_type": "code",
   "execution_count": 1,
   "metadata": {},
   "outputs": [],
   "source": [
    "import hfst\n",
    "import fstutils as fst"
   ]
  },
  {
   "cell_type": "code",
   "execution_count": 2,
   "metadata": {},
   "outputs": [],
   "source": [
    "defs = fst.Definitions({\n",
    "    \"Stop\":'[ p | t | c | k | q ]',\n",
    "    \"Nasal\":'[ m | n | \"ng\" | ḿ | ń | \"ńg\" ]',\n",
    "    \"Fricative\":'[  v   |  l   |  s   |  g   |  r   | \"vv\" | \"ll\" | \"ss\" | \"gg\" | \"rr\" |\"u͡g\" | \"u͡gg\" | \"u͡r\" | \"u͡rr\" ]',\n",
    "    'C':'[ Stop | Nasal | Fricative | w | y ]',\n",
    "    'FullVowel':'[ a | i | u ]',\n",
    "    'V':'[ e | FullVowel ]',\n",
    "    'Alphabet':'[ C | V ]',\n",
    "    'MorphPhonSymbols':'[ \"~\" | \"+\" | \"-\" | \":\" | \"@\" | \"`\" | \"(ng)\" | \"(s)\" | \"(g)\" | \"(t)\" ]'\n",
    "})"
   ]
  },
  {
   "cell_type": "code",
   "execution_count": 3,
   "metadata": {},
   "outputs": [],
   "source": [
    "allomorphy = hfst.regex(defs.replace('\"(ng)\" -> \"ng\", \"(s)\" -> s || V MorphPhonSymbols* _ .o. \"(t)\" -> t || [ g | r ] MorphPhonSymbols* _ .o. \"(g)\" -> g || V V MorphPhonSymbols* _ .o. [ \"(ng)\" | \"(s)\" | \"(g)\" | \"(t)\" ] -> 0'))\n",
    "dropConsonant = hfst.regex(defs.replace('C -> 0 || _ MorphPhonSymbols* \"-\" .o. \"-\" -> 0'))\n",
    "keepConsonant = hfst.regex(defs.replace('\"+\" -> 0'))\n",
    "eDeletion = hfst.regex(defs.replace('e -> 0 || _ MorphPhonSymbols* \"~\" .o. \"~\" -> 0'))\n",
    "velarDropping = hfst.regex(defs.replace('[ g | r | \"ng\" ] -> 0 || C V _ \":\" V C .o. \":\" -> 0'))\n",
    "baseFinalEndings = hfst.regex(defs.replace('r -> q, g -> k, e -> a || _ [ \"+\" | .#. ]'))\n",
    "tripleConsonant = hfst.regex(defs.replace('[..] -> e || C C _ C'))\n",
    "engi = hfst.regex(defs.replace('e ng i -> a i'))\n",
    "cleanup = hfst.regex(defs.replace('\"=\" -> \"-\"'))"
   ]
  },
  {
   "cell_type": "code",
   "execution_count": 4,
   "metadata": {},
   "outputs": [],
   "source": [
    "grammar = hfst.compile_lexc_file('esu_toy_full.lexc')\n",
    "grammar.compose(allomorphy)\n",
    "grammar.compose(dropConsonant)\n",
    "grammar.compose(keepConsonant)\n",
    "grammar.compose(eDeletion)\n",
    "grammar.compose(velarDropping)\n",
    "grammar.compose(baseFinalEndings)\n",
    "grammar.compose(tripleConsonant)\n",
    "grammar.compose(engi)\n",
    "grammar.compose(cleanup)"
   ]
  },
  {
   "cell_type": "code",
   "execution_count": 5,
   "metadata": {},
   "outputs": [
    {
     "data": {
      "text/plain": [
       "['angyarpaliviitellrunqigtuq-gguq']"
      ]
     },
     "execution_count": 5,
     "metadata": {},
     "output_type": "execute_result"
    }
   ],
   "source": [
    "fst.lookup(grammar, 'boat-big-to.make-place.to-to.lack-PST-again-IND.3sg=reported')"
   ]
  },
  {
   "cell_type": "code",
   "execution_count": 6,
   "metadata": {},
   "outputs": [],
   "source": [
    "test_target1 = fst.read_test_file(\"testsuite1.txt\")"
   ]
  },
  {
   "cell_type": "code",
   "execution_count": 7,
   "metadata": {},
   "outputs": [
    {
     "name": "stdout",
     "output_type": "stream",
     "text": [
      "caribou\\ABS.sg\n",
      "tuntu\n",
      "boat\\ABS.sg\n",
      "angyaq\n",
      "river\\ABS.sg\n",
      "kuik\n",
      "dog\\ABS.sg\n",
      "qimugta\n",
      "work-IND.3sg\n",
      "caliuq\n",
      "eat-IND.3sg\n",
      "neruq\n",
      "play-IND.3sg\n",
      "aquiguq\n",
      "sleep-IND.3sg\n",
      "qavartuq\n",
      "be.good-IND.3sg\n",
      "assirtuq\n",
      "be.hungry-IND.3sg\n",
      "kaigtuq\n",
      "caribou-big\\ABS.sg\n",
      "tunturpak\n",
      "boat-big\\ABS.sg\n",
      "angyarpak\n",
      "river-big\\ABS.sg\n",
      "kuirpak\n",
      "dog-big\\ABS.sg\n",
      "qimugterpak\n",
      "work-PST-IND.3sg\n",
      "calillruuq\n",
      "eat-PST-IND.3sg\n",
      "nerellruuq\n",
      "sleep-PST-IND.3sg\n",
      "qavallruuq\n",
      "be.hungry-PST-IND.3sg\n",
      "kaillruuq\n",
      "caribou-to.make-IND.3sg\n",
      "tuntuliuq\n",
      "boat-to.make-IND.3sg\n",
      "angyaliuq\n",
      "river-to.make-IND.3sg\n",
      "kuiliuq\n",
      "dog-to.make-IND.3sg\n",
      "qimugteliuq\n",
      "work-place.to-IND.3sg\n",
      "calivik\n"
     ]
    },
    {
     "ename": "FstPathNotFound",
     "evalue": "The string work-place.to-IND.3sg was not found in the transducer",
     "output_type": "error",
     "traceback": [
      "\u001b[0;31m---------------------------------------------------------------------------\u001b[0m",
      "\u001b[0;31mFstPathNotFound\u001b[0m                           Traceback (most recent call last)",
      "\u001b[0;32m<ipython-input-7-c1667e287581>\u001b[0m in \u001b[0;36m<module>\u001b[0;34m\u001b[0m\n\u001b[0;32m----> 1\u001b[0;31m \u001b[0mfst\u001b[0m\u001b[0;34m.\u001b[0m\u001b[0mtest_fst\u001b[0m\u001b[0;34m(\u001b[0m\u001b[0mgrammar\u001b[0m\u001b[0;34m,\u001b[0m \u001b[0mtest_target1\u001b[0m\u001b[0;34m)\u001b[0m\u001b[0;34m\u001b[0m\u001b[0;34m\u001b[0m\u001b[0m\n\u001b[0m",
      "\u001b[0;32m~/Documents/CodingProjects/JSALT2019-FST-lab/fstutils.py\u001b[0m in \u001b[0;36mtest_fst\u001b[0;34m(transducer, expected)\u001b[0m\n\u001b[1;32m     43\u001b[0m         \u001b[0mprint\u001b[0m\u001b[0;34m(\u001b[0m\u001b[0mkey\u001b[0m\u001b[0;34m)\u001b[0m\u001b[0;34m\u001b[0m\u001b[0;34m\u001b[0m\u001b[0m\n\u001b[1;32m     44\u001b[0m         \u001b[0mprint\u001b[0m\u001b[0;34m(\u001b[0m\u001b[0mexpected\u001b[0m\u001b[0;34m[\u001b[0m\u001b[0mkey\u001b[0m\u001b[0;34m]\u001b[0m\u001b[0;34m)\u001b[0m\u001b[0;34m\u001b[0m\u001b[0;34m\u001b[0m\u001b[0m\n\u001b[0;32m---> 45\u001b[0;31m         \u001b[0mresults\u001b[0m \u001b[0;34m=\u001b[0m \u001b[0mlookup\u001b[0m\u001b[0;34m(\u001b[0m\u001b[0mtransducer\u001b[0m\u001b[0;34m,\u001b[0m \u001b[0mkey\u001b[0m\u001b[0;34m)\u001b[0m\u001b[0;34m\u001b[0m\u001b[0;34m\u001b[0m\u001b[0m\n\u001b[0m\u001b[1;32m     46\u001b[0m         \u001b[0;32mfor\u001b[0m \u001b[0mitem\u001b[0m \u001b[0;32min\u001b[0m \u001b[0mresults\u001b[0m\u001b[0;34m:\u001b[0m\u001b[0;34m\u001b[0m\u001b[0;34m\u001b[0m\u001b[0m\n\u001b[1;32m     47\u001b[0m             \u001b[0;32mif\u001b[0m \u001b[0mitem\u001b[0m \u001b[0;32mnot\u001b[0m \u001b[0;32min\u001b[0m \u001b[0mexpected\u001b[0m\u001b[0;34m[\u001b[0m\u001b[0mkey\u001b[0m\u001b[0;34m]\u001b[0m\u001b[0;34m:\u001b[0m\u001b[0;34m\u001b[0m\u001b[0;34m\u001b[0m\u001b[0m\n",
      "\u001b[0;32m~/Documents/CodingProjects/JSALT2019-FST-lab/fstutils.py\u001b[0m in \u001b[0;36mlookup\u001b[0;34m(transducer, string)\u001b[0m\n\u001b[1;32m     26\u001b[0m     \u001b[0mresults\u001b[0m \u001b[0;34m=\u001b[0m \u001b[0mtransducer\u001b[0m\u001b[0;34m.\u001b[0m\u001b[0mlookup\u001b[0m\u001b[0;34m(\u001b[0m\u001b[0mstring\u001b[0m\u001b[0;34m)\u001b[0m\u001b[0;34m\u001b[0m\u001b[0;34m\u001b[0m\u001b[0m\n\u001b[1;32m     27\u001b[0m     \u001b[0;32mif\u001b[0m \u001b[0;32mnot\u001b[0m \u001b[0mresults\u001b[0m\u001b[0;34m:\u001b[0m\u001b[0;34m\u001b[0m\u001b[0;34m\u001b[0m\u001b[0m\n\u001b[0;32m---> 28\u001b[0;31m         \u001b[0;32mraise\u001b[0m \u001b[0mFstPathNotFound\u001b[0m\u001b[0;34m(\u001b[0m\u001b[0;34m\"The string \"\u001b[0m \u001b[0;34m+\u001b[0m \u001b[0mstring\u001b[0m \u001b[0;34m+\u001b[0m \u001b[0;34m\" was not found in the transducer\"\u001b[0m\u001b[0;34m)\u001b[0m\u001b[0;34m\u001b[0m\u001b[0;34m\u001b[0m\u001b[0m\n\u001b[0m\u001b[1;32m     29\u001b[0m     \u001b[0;32mreturn\u001b[0m \u001b[0;34m[\u001b[0m\u001b[0mremove_epsilons\u001b[0m\u001b[0;34m(\u001b[0m\u001b[0mr\u001b[0m\u001b[0;34m[\u001b[0m\u001b[0;36m0\u001b[0m\u001b[0;34m]\u001b[0m\u001b[0;34m)\u001b[0m \u001b[0;32mfor\u001b[0m \u001b[0mr\u001b[0m \u001b[0;32min\u001b[0m \u001b[0mresults\u001b[0m\u001b[0;34m]\u001b[0m\u001b[0;34m\u001b[0m\u001b[0;34m\u001b[0m\u001b[0m\n\u001b[1;32m     30\u001b[0m \u001b[0;34m\u001b[0m\u001b[0m\n",
      "\u001b[0;31mFstPathNotFound\u001b[0m: The string work-place.to-IND.3sg was not found in the transducer"
     ]
    }
   ],
   "source": [
    "fst.test_fst(grammar, test_target1)"
   ]
  },
  {
   "cell_type": "code",
   "execution_count": 10,
   "metadata": {},
   "outputs": [
    {
     "data": {
      "text/plain": [
       "['calivik']"
      ]
     },
     "execution_count": 10,
     "metadata": {},
     "output_type": "execute_result"
    }
   ],
   "source": [
    "fst.lookup(grammar, 'work-place.to\\ABS.sg')"
   ]
  },
  {
   "cell_type": "code",
   "execution_count": null,
   "metadata": {},
   "outputs": [],
   "source": []
  }
 ],
 "metadata": {
  "@webio": {
   "lastCommId": null,
   "lastKernelId": null
  },
  "kernelspec": {
   "display_name": "Python 3",
   "language": "python",
   "name": "python3"
  },
  "language_info": {
   "codemirror_mode": {
    "name": "ipython",
    "version": 3
   },
   "file_extension": ".py",
   "mimetype": "text/x-python",
   "name": "python",
   "nbconvert_exporter": "python",
   "pygments_lexer": "ipython3",
   "version": "3.7.2"
  }
 },
 "nbformat": 4,
 "nbformat_minor": 2
}
