{
 "cells": [
  {
   "cell_type": "markdown",
   "metadata": {},
   "source": [
    "# Yup'ik Toy FST Morphological Analyzer\n",
    "\n",
    "Central Alaskan Yup'ik (ISO 639-3: esu) is a polysynthetic language in the Eskimo-Aleut language family located in south-west Alaska.\n",
    "\n",
    "This lab consists of creating a toy FST morphological analyzer for Yup'ik. This toy grammar will be looking at the recursive nature of Yup'ik noun and verb suffixes and the morphophonological processes."
   ]
  },
  {
   "cell_type": "markdown",
   "metadata": {},
   "source": [
    "## Yup'ik Words\n",
    "\n",
    "![Word](Yup'ikWord.png)\n",
    "\n",
    "Yup'ik nouns and verbs consist of one base, zero or more derivational suffixes, one inflectional suffix, and zero or more enclitics.\n",
    "\n",
    "Bases are recursive and allow adding multiple derivaitonal suffixes.\n",
    "\n",
    "### Base = Base + Derivational Suffix\n",
    "\n",
    "There are 4 types of derivational suffixes:\n",
    "* [`N` → `N`] noun elaborating\n",
    "* [`V` → `V`] verb elaborating\n",
    "* [`N` → `V`] verbalizing\n",
    "* [`V` → `N`] nominalizing\n",
    "\n",
    "Suffixes attach to their corresponding base type (noun or verb) and the resulting base+suffix either stays the same type (`N` → `N` or `V` → `V`) or changes type (`N` → `V` or `V` → `N`)."
   ]
  },
  {
   "cell_type": "markdown",
   "metadata": {},
   "source": [
    "## Yup'ik FST Diagram\n",
    "![FST](Yup'ikFSDiagram.png)"
   ]
  },
  {
   "cell_type": "markdown",
   "metadata": {},
   "source": [
    "## Yup'ik Morphophonological Processes\n",
    "\n",
    "Yup'ik morphophonology is described by Jacobson with a variety of symbols. These symbols are associated with certain morphophonological processes described in the table below. \n",
    "\n",
    "| Symbol | Description |\n",
    "|:---|:---|\n",
    "| `+` | indicates that the suffix keeps final consonants of <br>stem (and if the stem does not end in a consonant, <br>the postbase merely affixes to the base without <br>changing it) |\n",
    "| `-` | indicates that the suffix drops final consonants from <br>stem |\n",
    "| `~` | indicates that the suffix drops final e from stem |\n",
    "| `:` | indicates that the suffix drops voiced velar/uvular <br>continuants (g, r, or ng) if they occur between single <br>vowels of which at least the first is full |\n",
    "| `(ng)` `(s)` | are used with stem ending in a vowel |\n",
    "| `(t)` | is used with stem ending in a consonant |\n",
    "| `(g)` | is used with stem ending in two vowels |\n",
    "\n",
    "\n",
    "### Example\n",
    "\n",
    "```\n",
    "boat-big-to.make-IND.3sg\n",
    "      <==>\n",
    "angyar-rpag-li~+(g)(t)uq\n",
    "      <==>\n",
    "angyarpaliuq\n",
    "```"
   ]
  },
  {
   "cell_type": "code",
   "execution_count": 1,
   "metadata": {},
   "outputs": [],
   "source": [
    "import hfst\n",
    "import fstutils as fst"
   ]
  },
  {
   "cell_type": "markdown",
   "metadata": {},
   "source": [
    "# Phase 1\n",
    "\n",
    "- [ ] <b>Task 1</b> Word final replacements –– `r` to `q`, `g` to `k`, and `e` to `a`\n",
    "- [ ] <b>Task 2</b> Implement morphophonological processes [`+`, `-`, `~`, `(g)`, `(t)`]\n",
    "- [ ] <b>Task 3</b> Replace `=` to `-` for enclitics"
   ]
  },
  {
   "cell_type": "code",
   "execution_count": 2,
   "metadata": {},
   "outputs": [],
   "source": [
    "# Convenient Yup'ik character classes for grammar rules\n",
    "# Add new definitions if you'd like\n",
    "defs = fst.Definitions({\n",
    "    \"Stop\":'[ p | t | c | k | q ]',\n",
    "    \"Nasal\":'[ m | n | \"ng\" | ḿ | ń | \"ńg\" ]',\n",
    "    \"Fricative\":'[  v   |  l   |  s   |  g   |  r   | \"vv\" | \"ll\" | \"ss\" | \"gg\" | \"rr\" |\"u͡g\" | \"u͡gg\" | \"u͡r\" | \"u͡rr\" ]',\n",
    "    'C':'[ Stop | Nasal | Fricative | w | y ]',\n",
    "    'FullVowel':'[ a | i | u ]',\n",
    "    'V':'[ e | FullVowel ]',\n",
    "    'Alphabet':'[ C | V ]',\n",
    "    'MorphPhonSymbols':'[ \"~\" | \"+\" | \"-\" | \":\" | \"@\" | \"`\" | \"(ng)\" | \"(s)\" | \"(g)\" | \"(t)\" ]'\n",
    "})"
   ]
  },
  {
   "cell_type": "code",
   "execution_count": 3,
   "metadata": {},
   "outputs": [],
   "source": [
    "### REGEX REPLACE RULES\n",
    "\n",
    "# TODO: Define new regex replace rules here!\n",
    "\n"
   ]
  },
  {
   "cell_type": "code",
   "execution_count": 4,
   "metadata": {},
   "outputs": [],
   "source": [
    "### GRAMMAR COMPOSITION\n",
    "grammar = hfst.compile_lexc_file('esu_toy.lexc')\n",
    "\n",
    "# TODO: Compose new regex replace rules here!\n",
    "\n"
   ]
  },
  {
   "cell_type": "markdown",
   "metadata": {},
   "source": [
    "## Testing"
   ]
  },
  {
   "cell_type": "code",
   "execution_count": 5,
   "metadata": {},
   "outputs": [
    {
     "data": {
      "text/plain": [
       "['angyar-rpag-li~+vig-yagar-li-llru-nqigte~+(g)(t)uq=qaa']"
      ]
     },
     "execution_count": 5,
     "metadata": {},
     "output_type": "execute_result"
    }
   ],
   "source": [
    "# Quick check to see what your grammar outputs \n",
    "fst.lookup(grammar, 'boat-big-to.make-place.to-baby-to.make-PST-again-IND.3sg=QST')"
   ]
  },
  {
   "cell_type": "code",
   "execution_count": 6,
   "metadata": {},
   "outputs": [
    {
     "name": "stdout",
     "output_type": "stream",
     "text": [
      "Your grammar over generates the word angyar given the input boat\\ABS.sg\n",
      "Your grammar does not generate the word angyaq given the input boat\\ABS.sg\n",
      "Your grammar over generates the word kuig given the input river\\ABS.sg\n",
      "Your grammar does not generate the word kuik given the input river\\ABS.sg\n",
      "Your grammar over generates the word qimugte given the input dog\\ABS.sg\n",
      "Your grammar does not generate the word qimugta given the input dog\\ABS.sg\n",
      "Your grammar over generates the word cali~+(g)(t)uq given the input work-IND.3sg\n",
      "Your grammar does not generate the word caliuq given the input work-IND.3sg\n",
      "Your grammar over generates the word nere~+(g)(t)uq given the input eat-IND.3sg\n",
      "Your grammar does not generate the word neruq given the input eat-IND.3sg\n",
      "Your grammar over generates the word aqui~+(g)(t)uq given the input play-IND.3sg\n",
      "Your grammar does not generate the word aquiguq given the input play-IND.3sg\n",
      "Your grammar over generates the word qavar~+(g)(t)uq given the input sleep-IND.3sg\n",
      "Your grammar does not generate the word qavartuq given the input sleep-IND.3sg\n",
      "Your grammar over generates the word assir~+(g)(t)uq given the input be.good-IND.3sg\n",
      "Your grammar does not generate the word assirtuq given the input be.good-IND.3sg\n",
      "Your grammar over generates the word kaig~+(g)(t)uq given the input be.hungry-IND.3sg\n",
      "Your grammar does not generate the word kaigtuq given the input be.hungry-IND.3sg\n",
      "Your grammar over generates the word tuntu-rpag given the input caribou-big\\ABS.sg\n",
      "Your grammar does not generate the word tunturpak given the input caribou-big\\ABS.sg\n",
      "Your grammar over generates the word angyar-rpag given the input boat-big\\ABS.sg\n",
      "Your grammar does not generate the word angyarpak given the input boat-big\\ABS.sg\n",
      "Your grammar over generates the word kuig-rpag given the input river-big\\ABS.sg\n",
      "Your grammar does not generate the word kuirpak given the input river-big\\ABS.sg\n",
      "Your grammar over generates the word qimugte-rpag given the input dog-big\\ABS.sg\n",
      "Your grammar does not generate the word qimugterpak given the input dog-big\\ABS.sg\n",
      "Your grammar over generates the word cali-llru~+(g)(t)uq given the input work-PST-IND.3sg\n",
      "Your grammar does not generate the word calillruuq given the input work-PST-IND.3sg\n",
      "Your grammar over generates the word nere-llru~+(g)(t)uq given the input eat-PST-IND.3sg\n",
      "Your grammar does not generate the word nerellruuq given the input eat-PST-IND.3sg\n",
      "Your grammar over generates the word qavar-llru~+(g)(t)uq given the input sleep-PST-IND.3sg\n",
      "Your grammar does not generate the word qavallruuq given the input sleep-PST-IND.3sg\n",
      "Your grammar over generates the word kaig-llru~+(g)(t)uq given the input be.hungry-PST-IND.3sg\n",
      "Your grammar does not generate the word kaillruuq given the input be.hungry-PST-IND.3sg\n",
      "Your grammar over generates the word tuntu-li~+(g)(t)uq given the input caribou-to.make-IND.3sg\n",
      "Your grammar does not generate the word tuntuliuq given the input caribou-to.make-IND.3sg\n",
      "Your grammar over generates the word angyar-li~+(g)(t)uq given the input boat-to.make-IND.3sg\n",
      "Your grammar does not generate the word angyaliuq given the input boat-to.make-IND.3sg\n",
      "Your grammar over generates the word kuig-li~+(g)(t)uq given the input river-to.make-IND.3sg\n",
      "Your grammar does not generate the word kuiliuq given the input river-to.make-IND.3sg\n",
      "Your grammar over generates the word qimugte-li~+(g)(t)uq given the input dog-to.make-IND.3sg\n",
      "Your grammar does not generate the word qimugteliuq given the input dog-to.make-IND.3sg\n",
      "Your grammar over generates the word cali~+vig given the input work-place.to\\ABS.sg\n",
      "Your grammar does not generate the word calivik given the input work-place.to\\ABS.sg\n",
      "Your grammar over generates the word nere~+vig given the input eat-place.to\\ABS.sg\n",
      "Your grammar does not generate the word nervik given the input eat-place.to\\ABS.sg\n",
      "Your grammar over generates the word aqui~+vig given the input play-place.to\\ABS.sg\n",
      "Your grammar does not generate the word aquivik given the input play-place.to\\ABS.sg\n",
      "Your grammar over generates the word qavar~+vig given the input sleep-place.to\\ABS.sg\n",
      "Your grammar does not generate the word qavarvik given the input sleep-place.to\\ABS.sg\n",
      "Your grammar over generates the word kaig~+vig given the input be.hungry-place.to\\ABS.sg\n",
      "Your grammar does not generate the word kaigvik given the input be.hungry-place.to\\ABS.sg\n",
      "Your grammar over generates the word qimugte=qaa given the input dog\\ABS.sg=QST\n",
      "Your grammar does not generate the word qimugta-qaa given the input dog\\ABS.sg=QST\n",
      "Your grammar over generates the word cali-llru~+(g)(t)uq=qaa given the input work-PST-IND.3sg=QST\n",
      "Your grammar does not generate the word calillruuq-qaa given the input work-PST-IND.3sg=QST\n",
      "Your grammar over generates the word angyar-li~+(g)(t)uq=qaa given the input boat-to.make-IND.3sg=QST\n",
      "Your grammar does not generate the word angyaliuq-qaa given the input boat-to.make-IND.3sg=QST\n",
      "Your grammar over generates the word qavar~+(g)(t)uq=qaa given the input sleep-IND.3sg=QST\n",
      "Your grammar does not generate the word qavartuq-qaa given the input sleep-IND.3sg=QST\n",
      "Your grammar over generates the word kuig-yagar-rpag-li-nqigte-llru~+(g)(t)uq given the input river-baby-big-to.make-again-PST-IND.3sg\n",
      "Your grammar does not generate the word kuiyagarpalinqigtellruuq given the input river-baby-big-to.make-again-PST-IND.3sg\n",
      "Your grammar over generates the word qavar-llru-nqigte~+vig-rpag-li-nqigte~+(g)(t)uq=qaa given the input sleep-PST-again-place.to-big-to.make-again-IND.3sg=QST\n",
      "Your grammar does not generate the word qavallrunqigtevirpalinqigtuq-qaa given the input sleep-PST-again-place.to-big-to.make-again-IND.3sg=QST\n",
      "There were 64 errors\n"
     ]
    },
    {
     "data": {
      "text/plain": [
       "False"
      ]
     },
     "execution_count": 6,
     "metadata": {},
     "output_type": "execute_result"
    }
   ],
   "source": [
    "# Run testsuite1\n",
    "test_target1 = fst.read_test_file(\"testsuite1.txt\")\n",
    "fst.test_fst(grammar, test_target1)"
   ]
  },
  {
   "cell_type": "markdown",
   "metadata": {},
   "source": [
    "# Phase 2\n",
    "\n",
    "- [ ] **Task 1** Add new words to `esu_toy.lexc`\n",
    "\n",
    "|Category|Words|\n",
    "|---|---|\n",
    "|Noun Base | village:nuna<br>ice.cream:akutar<br>person:yug<br>sun:akerte |\n",
    "|Verb Base | be.smart:elisnga<br>sit:aqume<br>walk:piyua<br>study:elitnaur<br>go:ayag |\n",
    "|Noun Deriv | -fake:~+(ng)uar [N → N]<br>-to.lack:~%:(ng)ite [N → V] <br> (% is used for escaping characters in lexc) |\n",
    "|Verb Deriv | -A'.say:~+ni [V → V]<br>-one.who:+(s)te [V → N] |\n",
    "|Noun Infl | -ABS.1sg.sg:-ka |\n",
    "|Verb Infl | -IND.1sg.3sg:~+(g)aqa |\n",
    "|Enclitic | =reported:=gguq |\n",
    "\n",
    "- [ ] **Task 2** Implement morphophonological processes [`:`, `(ng)`, `(s)`]\n",
    "- [ ] **Task 3** Triple consonant cluster should add e after middle consonant (i.e. `CCC` → `CCeC`)\n",
    "- [ ] **Task 4** Add rule: (`engi` → `ai`)"
   ]
  },
  {
   "cell_type": "markdown",
   "metadata": {},
   "source": [
    "## Testing"
   ]
  },
  {
   "cell_type": "code",
   "execution_count": 7,
   "metadata": {
    "scrolled": true
   },
   "outputs": [
    {
     "ename": "FstPathNotFound",
     "evalue": "The string village-fake-one.who-to.lack-A'.say-IND.1sg.3sg=reported was not found in the transducer",
     "output_type": "error",
     "traceback": [
      "\u001b[0;31m---------------------------------------------------------------------------\u001b[0m",
      "\u001b[0;31mFstPathNotFound\u001b[0m                           Traceback (most recent call last)",
      "\u001b[0;32m<ipython-input-7-7c703350a783>\u001b[0m in \u001b[0;36m<module>\u001b[0;34m\u001b[0m\n\u001b[1;32m      1\u001b[0m \u001b[0;31m# Quick lookup function to check grammar output\u001b[0m\u001b[0;34m\u001b[0m\u001b[0;34m\u001b[0m\u001b[0;34m\u001b[0m\u001b[0m\n\u001b[0;32m----> 2\u001b[0;31m \u001b[0mfst\u001b[0m\u001b[0;34m.\u001b[0m\u001b[0mlookup\u001b[0m\u001b[0;34m(\u001b[0m\u001b[0mgrammar\u001b[0m\u001b[0;34m,\u001b[0m \u001b[0;34m'village-fake-one.who-to.lack-A\\'.say-IND.1sg.3sg=reported'\u001b[0m\u001b[0;34m)\u001b[0m\u001b[0;34m\u001b[0m\u001b[0;34m\u001b[0m\u001b[0m\n\u001b[0m",
      "\u001b[0;32m~/Documents/JSALT-Summer-School/JSALT2019-FST-lab/fstutils.py\u001b[0m in \u001b[0;36mlookup\u001b[0;34m(transducer, string)\u001b[0m\n\u001b[1;32m     26\u001b[0m     \u001b[0mresults\u001b[0m \u001b[0;34m=\u001b[0m \u001b[0mtransducer\u001b[0m\u001b[0;34m.\u001b[0m\u001b[0mlookup\u001b[0m\u001b[0;34m(\u001b[0m\u001b[0mstring\u001b[0m\u001b[0;34m)\u001b[0m\u001b[0;34m\u001b[0m\u001b[0;34m\u001b[0m\u001b[0m\n\u001b[1;32m     27\u001b[0m     \u001b[0;32mif\u001b[0m \u001b[0;32mnot\u001b[0m \u001b[0mresults\u001b[0m\u001b[0;34m:\u001b[0m\u001b[0;34m\u001b[0m\u001b[0;34m\u001b[0m\u001b[0m\n\u001b[0;32m---> 28\u001b[0;31m         \u001b[0;32mraise\u001b[0m \u001b[0mFstPathNotFound\u001b[0m\u001b[0;34m(\u001b[0m\u001b[0;34m\"The string \"\u001b[0m \u001b[0;34m+\u001b[0m \u001b[0mstring\u001b[0m \u001b[0;34m+\u001b[0m \u001b[0;34m\" was not found in the transducer\"\u001b[0m\u001b[0;34m)\u001b[0m\u001b[0;34m\u001b[0m\u001b[0;34m\u001b[0m\u001b[0m\n\u001b[0m\u001b[1;32m     29\u001b[0m     \u001b[0;32mreturn\u001b[0m \u001b[0;34m[\u001b[0m\u001b[0mremove_epsilons\u001b[0m\u001b[0;34m(\u001b[0m\u001b[0mr\u001b[0m\u001b[0;34m[\u001b[0m\u001b[0;36m0\u001b[0m\u001b[0;34m]\u001b[0m\u001b[0;34m)\u001b[0m \u001b[0;32mfor\u001b[0m \u001b[0mr\u001b[0m \u001b[0;32min\u001b[0m \u001b[0mresults\u001b[0m\u001b[0;34m]\u001b[0m\u001b[0;34m\u001b[0m\u001b[0;34m\u001b[0m\u001b[0m\n\u001b[1;32m     30\u001b[0m \u001b[0;34m\u001b[0m\u001b[0m\n",
      "\u001b[0;31mFstPathNotFound\u001b[0m: The string village-fake-one.who-to.lack-A'.say-IND.1sg.3sg=reported was not found in the transducer"
     ]
    }
   ],
   "source": [
    "# Quick lookup function to check grammar output\n",
    "fst.lookup(grammar, 'village-fake-one.who-to.lack-A\\'.say-IND.1sg.3sg=reported')"
   ]
  },
  {
   "cell_type": "code",
   "execution_count": null,
   "metadata": {},
   "outputs": [],
   "source": [
    "# Run testsuite2\n",
    "test_target2 = fst.read_test_file(\"testsuite2.txt\")\n",
    "fst.test_fst(grammar, test_target2)"
   ]
  },
  {
   "cell_type": "code",
   "execution_count": null,
   "metadata": {},
   "outputs": [],
   "source": []
  }
 ],
 "metadata": {
  "@webio": {
   "lastCommId": null,
   "lastKernelId": null
  },
  "kernelspec": {
   "display_name": "Python 3",
   "language": "python",
   "name": "python3"
  },
  "language_info": {
   "codemirror_mode": {
    "name": "ipython",
    "version": 3
   },
   "file_extension": ".py",
   "mimetype": "text/x-python",
   "name": "python",
   "nbconvert_exporter": "python",
   "pygments_lexer": "ipython3",
   "version": "3.7.3"
  }
 },
 "nbformat": 4,
 "nbformat_minor": 2
}
